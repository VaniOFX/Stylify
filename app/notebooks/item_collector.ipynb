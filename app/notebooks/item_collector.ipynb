{
 "cells": [
  {
   "cell_type": "code",
   "execution_count": 1,
   "metadata": {},
   "outputs": [
    {
     "name": "stdout",
     "output_type": "stream",
     "text": [
      "Image Processing...\n"
     ]
    },
    {
     "name": "stderr",
     "output_type": "stream",
     "text": [
      "100%|██████████| 5/5 [01:08<00:00, 12.88s/it]\n"
     ]
    }
   ],
   "source": [
    "import argparse\n",
    "import os\n",
    "import sys\n",
    "sys.path.append('../recommender/')\n",
    "import numpy as np\n",
    "from os import listdir, makedirs, remove\n",
    "from collections import defaultdict\n",
    "from os.path import isfile, join, exists\n",
    "from cloth_detector import *\n",
    "import gram_extractor as ge\n",
    "import background_remover as br\n",
    "from ntpath import basename\n",
    "from tqdm import tqdm\n",
    "from shutil import move\n",
    "\n",
    "def get_files_from_path(image_path):\n",
    "    return [join(image_path, f) for f in listdir(image_path) if isfile(join(image_path, f))]\n",
    "\n",
    "def get_and_append(arr, filename):\n",
    "    stored_arr = np.load(filename)\n",
    "    new_arr = np.concatenate((stored_arr, arr), axis=0)\n",
    "    np.save(filename, new_arr)\n",
    "\n",
    "def get_grams_collection(cat):\n",
    "    try:\n",
    "        return np.load(get_grams_filename(cat))\n",
    "    except:\n",
    "        print(\"No files in the database!\")\n",
    "        \n",
    "def get_filenames_collection(cat):\n",
    "    try:\n",
    "        return np.load(get_files_filename(cat))\n",
    "    except:\n",
    "        print(\"No files in the database!\")\n",
    "\n",
    "def get_grams_filename(cat):\n",
    "    return f\"../collections/{cat}_grams.npy\"\n",
    "\n",
    "def get_files_filename(cat):\n",
    "    return f\"../collections/{cat}_filenames.npy\"\n",
    "\n",
    "if __name__ == \"__main__\":\n",
    "    print(\"Image Processing...\")\n",
    "#     ap = argparse.ArgumentParser()\n",
    "#     ap.add_argument(\"-p\", \"--path\", required=True, help=\"Path to the folder with images\")\n",
    "#     args = vars(ap.parse_args())\n",
    "#     images_path = args[\"path\"]\n",
    "    images_path = \"../../files\"\n",
    "    if exists(images_path):\n",
    "        makedirs(\"../collections\", exist_ok=True)\n",
    "        makedirs(\"../static/image_data\", exist_ok=True)\n",
    "        temp = \"../collections/temp.jpg\"\n",
    "        files = get_files_from_path(images_path)\n",
    "        learner, id2cat, cat2id = load_learner()\n",
    "        grams = defaultdict(list)\n",
    "        filenames = defaultdict(list)\n",
    "        for fn in tqdm(files):\n",
    "            bboxes, cats, _ = predict(learner, fn)\n",
    "            img = Image.open(fn)\n",
    "            h, w = img.size\n",
    "            bn = basename(fn)\n",
    "            move(fn, f\"../static/image_data/{bn}\")\n",
    "            for cat, bbox in zip(cats,bboxes):\n",
    "                bbox = np.array([bbox[1]*h, bbox[0]*w, bbox[3]*h, bbox[2]*w])\n",
    "                img.crop(tuple(bbox)).save(temp)\n",
    "                br.remove_background(temp).save(temp)\n",
    "                features_vector = ge.get_gram(temp)\n",
    "                grams[cat].append(features_vector)\n",
    "                filenames[cat].append(f\"../static/image_data/{bn}\")\n",
    "            remove(temp)\n",
    "        for cat in grams.keys():\n",
    "            grams_path = get_grams_filename(cat)\n",
    "            fns_path = get_files_filename(cat)\n",
    "            if exists(grams_path) and exists(fns_path):\n",
    "                get_and_append(grams[cat], grams_path)\n",
    "                get_and_append(filenames[cat], fns_path)\n",
    "                continue\n",
    "            np.save(grams_path, grams[cat])\n",
    "            np.save(fns_path, filenames[cat])\n",
    "    else: print(\"No such directory. Make sure it exists\")"
   ]
  },
  {
   "cell_type": "code",
   "execution_count": 10,
   "metadata": {},
   "outputs": [
    {
     "data": {
      "text/html": [
       "<a href='../static/tmp/5a9901c9-6928-4ba1-9c12-2dbc9ccffe1a.jpg' target='_blank'>../static/tmp/5a9901c9-6928-4ba1-9c12-2dbc9ccffe1a.jpg</a><br>"
      ],
      "text/plain": [
       "/home/vanio/fastai/old/Stylify/app/static/tmp/5a9901c9-6928-4ba1-9c12-2dbc9ccffe1a.jpg"
      ]
     },
     "execution_count": 10,
     "metadata": {},
     "output_type": "execute_result"
    }
   ],
   "source": [
    "from IPython.display import FileLink, FileLinks\n",
    "FileLink(\"../static/tmp/5a9901c9-6928-4ba1-9c12-2dbc9ccffe1a.jpg\")"
   ]
  },
  {
   "cell_type": "code",
   "execution_count": null,
   "metadata": {},
   "outputs": [],
   "source": []
  }
 ],
 "metadata": {
  "kernelspec": {
   "display_name": "Python 3",
   "language": "python",
   "name": "python3"
  },
  "language_info": {
   "codemirror_mode": {
    "name": "ipython",
    "version": 3
   },
   "file_extension": ".py",
   "mimetype": "text/x-python",
   "name": "python",
   "nbconvert_exporter": "python",
   "pygments_lexer": "ipython3",
   "version": "3.6.7"
  }
 },
 "nbformat": 4,
 "nbformat_minor": 2
}
