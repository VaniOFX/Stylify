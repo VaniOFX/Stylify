{
 "cells": [
  {
   "cell_type": "code",
   "execution_count": null,
   "metadata": {},
   "outputs": [],
   "source": [
    "import sys\n",
    "sys.path.append('../../../')\n",
    "from fastai.imports import *\n",
    "from fastai.dataset import *"
   ]
  },
  {
   "cell_type": "code",
   "execution_count": 17,
   "metadata": {},
   "outputs": [],
   "source": [
    "class SaveFeatures():\n",
    "    features=None\n",
    "    def __init__(self, m): self.hook = m.register_forward_hook(self.hook_fn)\n",
    "    def hook_fn(self, module, input, output): self.features = output\n",
    "    def close(self): self.hook.remove()\n",
    "        \n",
    "def gram(input):\n",
    "    b,c,h,w = input.size()\n",
    "    x = input.view(b*c, -1)\n",
    "    return torch.mm(x, x.t())/input.numel()*1e6\n",
    "\n",
    "def get_gram(filename):\n",
    "    img = open_image(filename)\n",
    "    img_tfms = val_tfms(img)\n",
    "    m_vgg(VV(img_tfms[None]))\n",
    "    img_act = act.features.clone()\n",
    "    return to_np(gram(img_act).view(-1))\n",
    "\n",
    "m_vgg = to_gpu(vgg16(True)).eval()\n",
    "set_trainable(m_vgg, False)\n",
    "sz=288\n",
    "_, val_tfms = tfms_from_model(vgg16, sz)\n",
    "act = SaveFeatures(children(m_vgg)[5])"
   ]
  }
 ],
 "metadata": {
  "kernelspec": {
   "display_name": "Python 3",
   "language": "python",
   "name": "python3"
  },
  "language_info": {
   "codemirror_mode": {
    "name": "ipython",
    "version": 3
   },
   "file_extension": ".py",
   "mimetype": "text/x-python",
   "name": "python",
   "nbconvert_exporter": "python",
   "pygments_lexer": "ipython3",
   "version": "3.6.7"
  }
 },
 "nbformat": 4,
 "nbformat_minor": 2
}
