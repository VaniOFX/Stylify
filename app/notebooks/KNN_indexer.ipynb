{
 "cells": [
  {
   "cell_type": "code",
   "execution_count": 4,
   "metadata": {},
   "outputs": [],
   "source": [
    "import nmslib\n",
    "from os.path import exists\n",
    "\n",
    "def get_index_filename(cat):\n",
    "    return f\"../indexes/{cat}.bin\"\n",
    "\n",
    "def init_index_for_data(data):\n",
    "    index = nmslib.init(space='angulardist')\n",
    "    index.addDataPointBatch(data)\n",
    "    return index\n",
    "\n",
    "def create_index(cat, data):\n",
    "    index = init_index_for_data(data)\n",
    "    index.createIndex()\n",
    "    save_index(index, cat)\n",
    "    return index\n",
    "\n",
    "def save_index(index, cat):\n",
    "    index.saveIndex(get_index_filename(cat))\n",
    "    \n",
    "def load_index(cat, data):\n",
    "    index = init_index_for_data(data)\n",
    "    index.loadIndex(get_index_filename(cat))\n",
    "    return index\n",
    "\n",
    "def get_index(cat, data):\n",
    "    path = get_index_filename(cat)\n",
    "    return load_index(cat, data) if exists(path) else create_index(cat, data)\n",
    "\n",
    "def get_knn(index, vec, k):\n",
    "    return index.knnQuery(vec, k=k)\n",
    "\n",
    "def get_knns(index, vecs, k):\n",
    "    return zip(*index.knnQueryBatch(vecs, k=k, num_threads=4))"
   ]
  }
 ],
 "metadata": {
  "kernelspec": {
   "display_name": "Python 3",
   "language": "python",
   "name": "python3"
  },
  "language_info": {
   "codemirror_mode": {
    "name": "ipython",
    "version": 3
   },
   "file_extension": ".py",
   "mimetype": "text/x-python",
   "name": "python",
   "nbconvert_exporter": "python",
   "pygments_lexer": "ipython3",
   "version": "3.6.7"
  }
 },
 "nbformat": 4,
 "nbformat_minor": 2
}
