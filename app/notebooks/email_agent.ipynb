{
 "cells": [
  {
   "cell_type": "code",
   "execution_count": 8,
   "metadata": {},
   "outputs": [],
   "source": [
    "import smtplib, ssl\n",
    "from email.message import EmailMessage\n",
    "\n",
    "port = 465\n",
    "smtp_server = \"smtp.gmail.com\"\n",
    "sender_email = \"ceo.stylify@gmail.com\" \n",
    "receiver_email = \"ceo.stylify@gmail.com\"\n",
    "password = \"1q2w1q2w\"\n",
    "    \n",
    "async def send_email(name, email, comments): \n",
    "    context = ssl.create_default_context()\n",
    "    msg = EmailMessage()\n",
    "    support_message = f\"Received by {name} ({email}):\\n\\n{comments}\"\n",
    "    msg.set_content(support_message)\n",
    "    msg['Subject'] = f'New Customer Message from {name}'\n",
    "    msg['From'] = sender_email\n",
    "    msg['To'] = receiver_email    \n",
    "    \n",
    "    with smtplib.SMTP_SSL(smtp_server, port, context=context) as server:\n",
    "        server.login(sender_email, password)\n",
    "        server.send_message(msg)\n",
    "        server.quit()\n",
    "        print(\"Sent!\")\n"
   ]
  }
 ],
 "metadata": {
  "kernelspec": {
   "display_name": "Python 3",
   "language": "python",
   "name": "python3"
  },
  "language_info": {
   "codemirror_mode": {
    "name": "ipython",
    "version": 3
   },
   "file_extension": ".py",
   "mimetype": "text/x-python",
   "name": "python",
   "nbconvert_exporter": "python",
   "pygments_lexer": "ipython3",
   "version": "3.6.7"
  }
 },
 "nbformat": 4,
 "nbformat_minor": 2
}
