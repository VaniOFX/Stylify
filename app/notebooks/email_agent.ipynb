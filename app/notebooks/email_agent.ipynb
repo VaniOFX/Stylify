{
 "cells": [
  {
   "cell_type": "markdown",
   "metadata": {},
   "source": [
    "# Creator: Ivan Bardarov <br> (University of Strathclyde, March 2019)\n",
    "## This module provides a way to send emails\n"
   ]
  },
  {
   "cell_type": "code",
   "execution_count": 4,
   "metadata": {},
   "outputs": [],
   "source": [
    "import smtplib, ssl\n",
    "from email.message import EmailMessage\n",
    "\n",
    "# The mail server configuration\n",
    "port = 465\n",
    "smtp_server = \"smtp.gmail.com\"\n",
    "sender_email = \"ceo.stylify@gmail.com\" \n",
    "receiver_email = \"ceo.stylify@gmail.com\"\n",
    "password = \"1q2w1q2w\"\n",
    "\n",
    "\n",
    "async def send_email(name, email, comments):\n",
    "    \"\"\"\n",
    "    Sends an email containing the content that has been received.\n",
    "\n",
    "    Parameters\n",
    "    ----------\n",
    "    name : str\n",
    "        The name of the customer\n",
    "    email : str \n",
    "        The email of the customer\n",
    "    comments : str\n",
    "        What the customer wants to say\n",
    "\n",
    "    \"\"\"\n",
    "    #get encrypted context\n",
    "    context = ssl.create_default_context()\n",
    "    \n",
    "    #message template\n",
    "    support_message = f\"Received by {name} ({email}):\\n\\n{comments}\"\n",
    "    \n",
    "    #setup the message object\n",
    "    msg = EmailMessage()\n",
    "    msg.set_content(support_message)\n",
    "    msg['Subject'] = f'New Customer Message from {name}'\n",
    "    msg['From'] = sender_email\n",
    "    msg['To'] = receiver_email    \n",
    "    \n",
    "    #connect to the server and send the message\n",
    "    with smtplib.SMTP_SSL(smtp_server, port, context=context) as server:\n",
    "        server.login(sender_email, password)\n",
    "        server.send_message(msg)\n",
    "        server.quit()"
   ]
  }
 ],
 "metadata": {
  "kernelspec": {
   "display_name": "Python 3",
   "language": "python",
   "name": "python3"
  },
  "language_info": {
   "codemirror_mode": {
    "name": "ipython",
    "version": 3
   },
   "file_extension": ".py",
   "mimetype": "text/x-python",
   "name": "python",
   "nbconvert_exporter": "python",
   "pygments_lexer": "ipython3",
   "version": "3.6.7"
  }
 },
 "nbformat": 4,
 "nbformat_minor": 2
}
