{
 "cells": [
  {
   "cell_type": "markdown",
   "metadata": {},
   "source": [
    "# Creator: Ivan Bardarov <br> (University of Strathclyde, March 2019)\n",
    "## This module connects to an external API and gets the background removed"
   ]
  },
  {
   "cell_type": "code",
   "execution_count": 1,
   "metadata": {},
   "outputs": [],
   "source": [
    "import roro\n",
    "import base64\n",
    "from PIL import Image\n",
    "from io import BytesIO\n",
    "\n",
    "# The url of the external model\n",
    "model_url = \"https://background-removal.rorocloud.io/\"\n",
    "\n",
    "#Instantiate the roro client which is going to connect to the external API\n",
    "api = roro.Client(model_url)\n",
    "\n",
    "def remove_background(fn):\n",
    "    \"\"\"\n",
    "    Sends the image to the external api, receives and decodes the response.\n",
    "\n",
    "    Parameters\n",
    "    ----------\n",
    "    fn : str, Path\n",
    "        The path to the file which background neesd to be removed\n",
    "        \n",
    "    Returns\n",
    "    -------\n",
    "    PIL.Image\n",
    "        an image with the background removed\n",
    "\n",
    "    \"\"\"\n",
    "    # read the file and encode it as b64string\n",
    "    with open(fn, \"rb\") as imageFile:\n",
    "        data = base64.b64encode(imageFile.read())\n",
    "        \n",
    "    #send the request to the api\n",
    "    image_json = {\"data\": data.decode('ascii')}\n",
    "    response = api.predict(image=image_json)\n",
    "    \n",
    "    #decode the image and create an Image object\n",
    "    data = base64.b64decode(response['data'])\n",
    "    return Image.open(BytesIO(data))"
   ]
  }
 ],
 "metadata": {
  "kernelspec": {
   "display_name": "Python 3",
   "language": "python",
   "name": "python3"
  },
  "language_info": {
   "codemirror_mode": {
    "name": "ipython",
    "version": 3
   },
   "file_extension": ".py",
   "mimetype": "text/x-python",
   "name": "python",
   "nbconvert_exporter": "python",
   "pygments_lexer": "ipython3",
   "version": "3.6.7"
  }
 },
 "nbformat": 4,
 "nbformat_minor": 2
}
