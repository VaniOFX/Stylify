{
 "cells": [
  {
   "cell_type": "code",
   "execution_count": 8,
   "metadata": {},
   "outputs": [],
   "source": [
    "import roro\n",
    "import base64\n",
    "from PIL import Image\n",
    "from io import BytesIO\n",
    "\n",
    "api = roro.Client(\"https://background-removal.rorocloud.io/\")\n",
    "\n",
    "def remove_background(fn):\n",
    "    with open(fn, \"rb\") as imageFile:\n",
    "        data = base64.b64encode(imageFile.read())\n",
    "    image_json = {\"data\": data.decode('ascii')}\n",
    "    response = api.predict(image=image_json)\n",
    "    data = base64.b64decode(response['data'])\n",
    "    return Image.open(BytesIO(data))"
   ]
  }
 ],
 "metadata": {
  "kernelspec": {
   "display_name": "Python 3",
   "language": "python",
   "name": "python3"
  },
  "language_info": {
   "codemirror_mode": {
    "name": "ipython",
    "version": 3
   },
   "file_extension": ".py",
   "mimetype": "text/x-python",
   "name": "python",
   "nbconvert_exporter": "python",
   "pygments_lexer": "ipython3",
   "version": "3.6.7"
  }
 },
 "nbformat": 4,
 "nbformat_minor": 2
}
