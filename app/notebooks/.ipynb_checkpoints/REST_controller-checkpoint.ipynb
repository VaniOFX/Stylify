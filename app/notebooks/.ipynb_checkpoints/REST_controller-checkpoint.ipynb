{
 "cells": [
  {
   "cell_type": "code",
   "execution_count": 1,
   "metadata": {},
   "outputs": [],
   "source": [
    "from starlette.applications import Starlette\n",
    "from starlette.responses import HTMLResponse, JSONResponse\n",
    "from starlette.staticfiles import StaticFiles\n",
    "from starlette.middleware.cors import CORSMiddleware\n",
    "import uvicorn, aiohttp, asyncio\n",
    "from io import BytesIO\n",
    "from pathlib import Path\n",
    "# from style_recommender import *"
   ]
  },
  {
   "cell_type": "code",
   "execution_count": null,
   "metadata": {},
   "outputs": [
    {
     "name": "stderr",
     "output_type": "stream",
     "text": [
      "INFO: Started server process [16668]\n",
      "INFO: Waiting for application startup.\n",
      "INFO: Uvicorn running on http://0.0.0.0:1997 (Press CTRL+C to quit)\n",
      "INFO: ('127.0.0.1', 54260) - \"GET / HTTP/1.1\" 200\n",
      "INFO: ('127.0.0.1', 54266) - \"POST /analyze HTTP/1.1\" 500\n",
      "ERROR: Exception in ASGI application\n",
      "Traceback (most recent call last):\n",
      "  File \"/home/vanio/anaconda3/envs/fastai/lib/python3.6/site-packages/uvicorn/protocols/http/httptools_impl.py\", line 372, in run_asgi\n",
      "    result = await asgi(self.receive, self.send)\n",
      "  File \"/home/vanio/anaconda3/envs/fastai/lib/python3.6/site-packages/starlette/middleware/errors.py\", line 125, in asgi\n",
      "    raise exc from None\n",
      "  File \"/home/vanio/anaconda3/envs/fastai/lib/python3.6/site-packages/starlette/middleware/errors.py\", line 103, in asgi\n",
      "    await asgi(receive, _send)\n",
      "  File \"/home/vanio/anaconda3/envs/fastai/lib/python3.6/site-packages/starlette/exceptions.py\", line 74, in app\n",
      "    raise exc from None\n",
      "  File \"/home/vanio/anaconda3/envs/fastai/lib/python3.6/site-packages/starlette/exceptions.py\", line 63, in app\n",
      "    await instance(receive, sender)\n",
      "  File \"/home/vanio/anaconda3/envs/fastai/lib/python3.6/site-packages/starlette/routing.py\", line 41, in awaitable\n",
      "    response = await func(request)\n",
      "  File \"<ipython-input-4-782ebccaadab>\", line 20, in analyze\n",
      "    time.sleep(secs)\n",
      "NameError: name 'secs' is not defined\n"
     ]
    }
   ],
   "source": [
    "import time\n",
    "\n",
    "path = Path(\"__file__\").parent\n",
    "app = Starlette()\n",
    "# app.add_middleware(CORSMiddleware, allow_origins=['*'], allow_headers=['X-Requested-With', 'Content-Type'])\n",
    "app.mount('/static', StaticFiles(directory='../static'))\n",
    "app.mount('/static', StaticFiles(directory='../static/image_data'))\n",
    "\n",
    "\n",
    "@app.route('/')\n",
    "def index(request):\n",
    "    html = path/'../view/index.html'\n",
    "    return HTMLResponse(html.open().read())\n",
    "\n",
    "@app.route('/analyze', methods=['POST'])\n",
    "async def analyze(request):\n",
    "    data = await request.form()\n",
    "    img_bytes = await (data['file'].read())\n",
    "#     get_recommendations(Image.open(BytesIO(img_bytes)))\n",
    "    time.sleep(3)\n",
    "    return JSONResponse({'results': [\"static/image_data/test1.jpg\",\n",
    "                                     \"static/image_data/test2.jpg\",\n",
    "                                     \"static/image_data/test3.jpg\",\n",
    "                                     \"static/image_data/test4.jpg\"]})\n",
    "\n",
    "if __name__ == '__main__':\n",
    "    uvicorn.run(app=app, host='0.0.0.0', port=1997)"
   ]
  },
  {
   "cell_type": "code",
   "execution_count": null,
   "metadata": {},
   "outputs": [],
   "source": []
  }
 ],
 "metadata": {
  "kernelspec": {
   "display_name": "Python 3",
   "language": "python",
   "name": "python3"
  },
  "language_info": {
   "codemirror_mode": {
    "name": "ipython",
    "version": 3
   },
   "file_extension": ".py",
   "mimetype": "text/x-python",
   "name": "python",
   "nbconvert_exporter": "python",
   "pygments_lexer": "ipython3",
   "version": "3.6.8"
  }
 },
 "nbformat": 4,
 "nbformat_minor": 2
}
