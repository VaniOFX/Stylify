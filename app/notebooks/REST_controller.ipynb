{
 "cells": [
  {
   "cell_type": "code",
   "execution_count": 1,
   "metadata": {},
   "outputs": [],
   "source": [
    "from starlette.applications import Starlette\n",
    "from starlette.responses import HTMLResponse, JSONResponse\n",
    "from starlette.staticfiles import StaticFiles\n",
    "import sys\n",
    "sys.path.append('../recommender/')\n",
    "from starlette.middleware.cors import CORSMiddleware\n",
    "import uvicorn, aiohttp, asyncio\n",
    "from io import BytesIO\n",
    "from pathlib import Path\n",
    "from cloth_detector import *\n",
    "from style_recommender import *\n",
    "import email_agent as ea"
   ]
  },
  {
   "cell_type": "code",
   "execution_count": null,
   "metadata": {},
   "outputs": [
    {
     "name": "stderr",
     "output_type": "stream",
     "text": [
      "INFO: Started server process [2685]\n",
      "INFO: Waiting for application startup.\n",
      "INFO: Uvicorn running on http://0.0.0.0:1997 (Press CTRL+C to quit)\n",
      "INFO: ('90.208.244.61', 56264) - \"GET / HTTP/1.1\" 200\n",
      "INFO: ('90.208.244.61', 56264) - \"GET /static/example.jpg HTTP/1.1\" 200\n",
      "INFO: ('90.208.244.61', 56266) - \"GET /static/image-picker.css HTTP/1.1\" 304\n",
      "INFO: ('90.208.244.61', 56268) - \"GET /static/example-cropped1.jpg HTTP/1.1\" 200\n",
      "INFO: ('90.208.244.61', 56272) - \"GET /static/client.js HTTP/1.1\" 304\n",
      "INFO: ('90.208.244.61', 56274) - \"GET /static/image-picker.min.js HTTP/1.1\" 304\n",
      "INFO: ('90.208.244.61', 56266) - \"GET /static/scroll-reveal-conf.js HTTP/1.1\" 304\n",
      "INFO: ('90.208.244.61', 56276) - \"GET /static/style.css HTTP/1.1\" 304\n",
      "INFO: ('90.208.244.61', 56272) - \"GET /static/example-cropped4.jpg HTTP/1.1\" 304\n",
      "INFO: ('90.208.244.61', 56274) - \"GET /static/example-cropped3.jpg HTTP/1.1\" 304\n",
      "INFO: ('90.208.244.61', 56266) - \"GET /static/example-cropped2.jpg HTTP/1.1\" 304\n",
      "INFO: ('31.13.115.13', 64536) - \"GET / HTTP/1.1\" 200\n",
      "INFO: ('31.13.115.13', 64536) - \"GET /static/style.css HTTP/1.1\" 200\n",
      "INFO: ('31.13.115.14', 48366) - \"GET /static/image-picker.css HTTP/1.1\" 200\n",
      "INFO: ('31.13.115.13', 32794) - \"GET /static/example-cropped1.jpg HTTP/1.1\" 200\n",
      "INFO: ('31.13.115.19', 51956) - \"GET /static/example.jpg HTTP/1.1\" 200\n",
      "INFO: ('31.13.115.14', 48416) - \"GET /static/example-cropped3.jpg HTTP/1.1\" 200\n",
      "INFO: ('31.13.115.12', 41998) - \"GET /static/example-cropped2.jpg HTTP/1.1\" 200\n",
      "INFO: ('31.13.115.13', 64536) - \"GET /static/image-picker.min.js HTTP/1.1\" 200\n",
      "INFO: ('31.13.115.13', 64536) - \"GET /static/client.js HTTP/1.1\" 200\n",
      "INFO: ('31.13.115.12', 41998) - \"GET /static/scroll-reveal-conf.js HTTP/1.1\" 200\n",
      "INFO: ('31.13.115.13', 32794) - \"GET /static/example-cropped4.jpg HTTP/1.1\" 200\n",
      "INFO: ('90.208.244.61', 40596) - \"GET / HTTP/1.1\" 200\n",
      "INFO: ('90.208.244.61', 40596) - \"GET /static/style.css HTTP/1.1\" 304\n",
      "INFO: ('90.208.244.61', 40596) - \"GET /static/image-picker.min.js HTTP/1.1\" 304\n",
      "INFO: ('90.208.244.61', 40614) - \"GET /static/image-picker.css HTTP/1.1\" 304\n",
      "INFO: ('90.208.244.61', 40616) - \"GET /static/client.js HTTP/1.1\" 304\n",
      "INFO: ('90.208.244.61', 40618) - \"GET /static/scroll-reveal-conf.js HTTP/1.1\" 304\n",
      "INFO: ('90.208.244.61', 40620) - \"GET /static/example.jpg HTTP/1.1\" 304\n",
      "INFO: ('90.208.244.61', 40622) - \"GET /static/example-cropped1.jpg HTTP/1.1\" 304\n",
      "INFO: ('90.208.244.61', 40596) - \"GET /static/example-cropped2.jpg HTTP/1.1\" 304\n",
      "INFO: ('90.208.244.61', 40614) - \"GET /static/example-cropped3.jpg HTTP/1.1\" 304\n",
      "INFO: ('90.208.244.61', 40616) - \"GET /static/example-cropped4.jpg HTTP/1.1\" 304\n"
     ]
    }
   ],
   "source": [
    "app = Starlette()\n",
    "app.add_middleware(CORSMiddleware, allow_origins=['*'], allow_headers=['X-Requested-With', 'Content-Type'])\n",
    "app.mount('/static', StaticFiles(directory='../static'))\n",
    "app.mount('/static', StaticFiles(directory='../static/image_data'))\n",
    "app.mount('/static', StaticFiles(directory='../static/tmp'))\n",
    "\n",
    "\n",
    "@app.route('/')\n",
    "def index(request):\n",
    "    html = Path(\"../view/index.html\")\n",
    "    return HTMLResponse(html.open().read())\n",
    "\n",
    "@app.route('/email', methods=['POST'])\n",
    "async def send_email(request):\n",
    "    json = await request.json()\n",
    "    await ea.send_email(json[\"name\"],json[\"email\"],json[\"comments\"])\n",
    "    print(json)\n",
    "    return JSONResponse({})\n",
    "\n",
    "@app.route('/analyze', methods=['POST'])\n",
    "async def detect_items(request):\n",
    "    json = await request.json()\n",
    "    result = get_recommendations(json)\n",
    "    print(result)\n",
    "    return JSONResponse({\"results\":result})\n",
    "\n",
    "@app.route('/detect', methods=['POST'])\n",
    "async def analyze(request):\n",
    "    data = await request.form()\n",
    "    img_bytes = await (data['file'].read())\n",
    "    response = get_detected_items(Image.open(BytesIO(img_bytes)))\n",
    "    print(response)\n",
    "    return JSONResponse(response)\n",
    "\n",
    "if __name__ == '__main__':\n",
    "    uvicorn.run(app=app, host='0.0.0.0', port=1997)"
   ]
  },
  {
   "cell_type": "code",
   "execution_count": null,
   "metadata": {},
   "outputs": [],
   "source": []
  }
 ],
 "metadata": {
  "kernelspec": {
   "display_name": "Python 3",
   "language": "python",
   "name": "python3"
  },
  "language_info": {
   "codemirror_mode": {
    "name": "ipython",
    "version": 3
   },
   "file_extension": ".py",
   "mimetype": "text/x-python",
   "name": "python",
   "nbconvert_exporter": "python",
   "pygments_lexer": "ipython3",
   "version": "3.6.7"
  }
 },
 "nbformat": 4,
 "nbformat_minor": 2
}
