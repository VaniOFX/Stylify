{
 "cells": [
  {
   "cell_type": "code",
   "execution_count": 1,
   "metadata": {},
   "outputs": [],
   "source": [
    "from starlette.applications import Starlette\n",
    "from starlette.responses import HTMLResponse, JSONResponse\n",
    "from starlette.staticfiles import StaticFiles\n",
    "import sys\n",
    "sys.path.append('../recommender/')\n",
    "from starlette.middleware.cors import CORSMiddleware\n",
    "import uvicorn, aiohttp, asyncio\n",
    "from io import BytesIO\n",
    "from pathlib import Path\n",
    "from cloth_detector import *\n",
    "from style_recommender import *"
   ]
  },
  {
   "cell_type": "code",
   "execution_count": null,
   "metadata": {
    "scrolled": false
   },
   "outputs": [
    {
     "name": "stderr",
     "output_type": "stream",
     "text": [
      "INFO: Started server process [12471]\n",
      "INFO: Waiting for application startup.\n",
      "INFO: Uvicorn running on http://0.0.0.0:1997 (Press CTRL+C to quit)\n",
      "INFO: ('2.217.213.48', 54964) - \"GET / HTTP/1.1\" 200\n",
      "INFO: ('2.217.213.48', 54964) - \"GET /static/style.css HTTP/1.1\" 200\n",
      "INFO: ('2.217.213.48', 54966) - \"GET /static/client.js HTTP/1.1\" 200\n",
      "INFO: ('2.217.213.48', 54968) - \"GET /static/example.jpg HTTP/1.1\" 304\n",
      "INFO: ('2.217.213.48', 54964) - \"GET /static/background.jpg HTTP/1.1\" 304\n",
      "INFO: ('2.217.213.48', 54970) - \"POST /detect HTTP/1.1\" 200\n",
      "INFO: ('2.217.213.48', 54970) - \"GET /static/tmp/b9f6023e-0c3d-40b5-a4d1-51b9c3cc143c.jpg HTTP/1.1\" 200\n",
      "INFO: ('2.217.213.48', 54972) - \"GET /static/tmp/ba1c261d-8e41-4f15-ac40-f470a57bf5a5.jpg HTTP/1.1\" 200\n",
      "INFO: ('2.217.213.48', 54974) - \"GET /static/tmp/adf277bf-a1ca-4f3d-8d00-1e0c66378920.jpg HTTP/1.1\" 200\n",
      "INFO: ('2.217.213.48', 54976) - \"GET /static/tmp/1ace46bf-11c3-4e23-98b3-7f3dd5fc0d96.jpg HTTP/1.1\" 200\n",
      "INFO: ('2.217.213.48', 54978) - \"GET /static/tmp/4b80497d-1c42-49de-a161-eeae0c4d25d8.jpg HTTP/1.1\" 200\n"
     ]
    },
    {
     "name": "stdout",
     "output_type": "stream",
     "text": [
      "{'cropped_items': ['../static/tmp/b9f6023e-0c3d-40b5-a4d1-51b9c3cc143c.jpg', '../static/tmp/ba1c261d-8e41-4f15-ac40-f470a57bf5a5.jpg', '../static/tmp/adf277bf-a1ca-4f3d-8d00-1e0c66378920.jpg', '../static/tmp/1ace46bf-11c3-4e23-98b3-7f3dd5fc0d96.jpg', '../static/tmp/4b80497d-1c42-49de-a161-eeae0c4d25d8.jpg'], 'categories': [3, 4, 7, 8, 8]}\n"
     ]
    },
    {
     "name": "stderr",
     "output_type": "stream",
     "text": [
      "INFO: ('2.217.213.48', 54990) - \"GET /static/style.css HTTP/1.1\" 304\n",
      "INFO: ('2.217.213.48', 57182) - \"GET / HTTP/1.1\" 200\n",
      "INFO: ('2.217.213.48', 57182) - \"GET /static/style.css HTTP/1.1\" 304\n",
      "INFO: ('2.217.213.48', 57182) - \"GET /static/client.js HTTP/1.1\" 200\n",
      "INFO: ('2.217.213.48', 57184) - \"POST /detect HTTP/1.1\" 200\n",
      "INFO: ('2.217.213.48', 57184) - \"GET /static/tmp/82d12288-d7a7-4d6e-b92e-2348eaefffaa.jpg HTTP/1.1\" 200\n",
      "INFO: ('2.217.213.48', 57186) - \"GET /static/tmp/8e6700e5-c1cb-4ce6-a1fc-bb9ed0670f93.jpg HTTP/1.1\" 200\n",
      "INFO: ('2.217.213.48', 57188) - \"GET /static/tmp/2f8c41f3-6ad0-4fb8-96ce-d971646f454a.jpg HTTP/1.1\" 200\n"
     ]
    },
    {
     "name": "stdout",
     "output_type": "stream",
     "text": [
      "{'cropped_items': ['../static/tmp/82d12288-d7a7-4d6e-b92e-2348eaefffaa.jpg', '../static/tmp/8e6700e5-c1cb-4ce6-a1fc-bb9ed0670f93.jpg', '../static/tmp/2f8c41f3-6ad0-4fb8-96ce-d971646f454a.jpg'], 'categories': [3, 7, 8]}\n"
     ]
    },
    {
     "name": "stderr",
     "output_type": "stream",
     "text": [
      "INFO: ('2.217.213.48', 57190) - \"POST /detect HTTP/1.1\" 200\n",
      "INFO: ('2.217.213.48', 57190) - \"GET /static/tmp/77ba6df4-8ca5-48fb-b289-d3b97f90ba9b.jpg HTTP/1.1\" 200\n",
      "INFO: ('2.217.213.48', 57192) - \"GET /static/tmp/874dcf3d-a4c2-43f1-a9f1-028da634a822.jpg HTTP/1.1\" 200\n",
      "INFO: ('2.217.213.48', 57194) - \"GET /static/tmp/9a8780ac-4bb8-43c2-af32-c1ab2032890f.jpg HTTP/1.1\" 200\n",
      "INFO: ('2.217.213.48', 57196) - \"GET /static/tmp/352b95d6-5057-4635-97f4-f232cb884ce9.jpg HTTP/1.1\" 200\n",
      "INFO: ('2.217.213.48', 57198) - \"GET /static/tmp/c3d7f520-5f6a-40a6-aac5-e2fd334fe664.jpg HTTP/1.1\" 200\n"
     ]
    },
    {
     "name": "stdout",
     "output_type": "stream",
     "text": [
      "{'cropped_items': ['../static/tmp/77ba6df4-8ca5-48fb-b289-d3b97f90ba9b.jpg', '../static/tmp/874dcf3d-a4c2-43f1-a9f1-028da634a822.jpg', '../static/tmp/9a8780ac-4bb8-43c2-af32-c1ab2032890f.jpg', '../static/tmp/352b95d6-5057-4635-97f4-f232cb884ce9.jpg', '../static/tmp/c3d7f520-5f6a-40a6-aac5-e2fd334fe664.jpg'], 'categories': [3, 4, 7, 8, 8]}\n"
     ]
    },
    {
     "name": "stderr",
     "output_type": "stream",
     "text": [
      "INFO: 2.928: POST https://background-removal.rorocloud.io/predict\n",
      "INFO: ('2.217.213.48', 57202) - \"POST /analyze HTTP/1.1\" 200\n",
      "INFO: ('2.217.213.48', 57202) - \"GET /static/image_data/blue-vice-high-waisted-raw-hem-skinny-jeans.jpeg HTTP/1.1\" 304\n",
      "INFO: ('2.217.213.48', 57204) - \"GET /static/image_data/TS02G02MBLK_M_1.jpg HTTP/1.1\" 304\n",
      "INFO: ('2.217.213.48', 57206) - \"GET /static/image_data/black-vice-high-waisted-coated-skinny-jeans.jpg HTTP/1.1\" 304\n"
     ]
    },
    {
     "name": "stdout",
     "output_type": "stream",
     "text": [
      "['../static/image_data/blue-vice-high-waisted-raw-hem-skinny-jeans.jpeg', '../static/image_data/TS02G02MBLK_M_1.jpg', '../static/image_data/black-vice-high-waisted-coated-skinny-jeans.jpg', '../static/image_data/blue-vice-high-waisted-raw-hem-skinny-jeans.jpeg']\n"
     ]
    },
    {
     "name": "stderr",
     "output_type": "stream",
     "text": [
      "INFO: ('2.217.213.48', 57214) - \"GET / HTTP/1.1\" 200\n",
      "INFO: ('2.217.213.48', 57214) - \"GET /static/style.css HTTP/1.1\" 304\n",
      "INFO: ('2.217.213.48', 57216) - \"GET /static/client.js HTTP/1.1\" 200\n",
      "INFO: ('2.217.213.48', 57216) - \"GET / HTTP/1.1\" 200\n",
      "INFO: ('2.217.213.48', 57216) - \"GET /static/client.js HTTP/1.1\" 304\n",
      "INFO: ('2.217.213.48', 57618) - \"GET / HTTP/1.1\" 200\n",
      "INFO: ('2.217.213.48', 57618) - \"GET /static/client.js HTTP/1.1\" 200\n",
      "INFO: ('2.217.213.48', 58206) - \"GET / HTTP/1.1\" 200\n",
      "INFO: ('2.217.213.48', 58206) - \"GET /static/style.css HTTP/1.1\" 304\n",
      "INFO: ('2.217.213.48', 58208) - \"GET /static/client.js HTTP/1.1\" 200\n",
      "INFO: ('2.217.213.48', 58206) - \"GET /static/example.jpg HTTP/1.1\" 304\n",
      "INFO: ('2.217.213.48', 58206) - \"GET /static/background.jpg HTTP/1.1\" 304\n",
      "INFO: ('2.217.213.48', 58210) - \"POST /detect HTTP/1.1\" 200\n",
      "INFO: ('2.217.213.48', 58210) - \"GET /static/tmp/b66f8492-dff8-4f25-aa50-2fd4d9518a56.jpg HTTP/1.1\" 200\n",
      "INFO: ('2.217.213.48', 58292) - \"GET /static/tmp/3684a36f-0102-4b2a-9add-de870b5f2770.jpg HTTP/1.1\" 200\n",
      "INFO: ('2.217.213.48', 58294) - \"GET /static/tmp/9d7b6ac0-bc68-40c4-9a01-de091aa5f690.jpg HTTP/1.1\" 200\n"
     ]
    },
    {
     "name": "stdout",
     "output_type": "stream",
     "text": [
      "{'cropped_items': ['../static/tmp/b66f8492-dff8-4f25-aa50-2fd4d9518a56.jpg', '../static/tmp/3684a36f-0102-4b2a-9add-de870b5f2770.jpg', '../static/tmp/9d7b6ac0-bc68-40c4-9a01-de091aa5f690.jpg'], 'categories': [3, 7, 8]}\n"
     ]
    },
    {
     "name": "stderr",
     "output_type": "stream",
     "text": [
      "INFO: 2.807: POST https://background-removal.rorocloud.io/predict\n",
      "INFO: ('2.217.213.48', 58346) - \"POST /analyze HTTP/1.1\" 200\n",
      "INFO: ('2.217.213.48', 58346) - \"GET /static/image_data/e840fedbcd2f9993452cc8fa0f366b6d.jpg HTTP/1.1\" 304\n"
     ]
    },
    {
     "name": "stdout",
     "output_type": "stream",
     "text": [
      "['../static/image_data/blue-vice-high-waisted-raw-hem-skinny-jeans.jpeg', '../static/image_data/TS02G02MBLK_M_1.jpg', '../static/image_data/e840fedbcd2f9993452cc8fa0f366b6d.jpg', '../static/image_data/black-vice-high-waisted-coated-skinny-jeans.jpg']\n"
     ]
    },
    {
     "name": "stderr",
     "output_type": "stream",
     "text": [
      "INFO: ('2.217.213.48', 58660) - \"GET / HTTP/1.1\" 200\n",
      "INFO: ('2.217.213.48', 58660) - \"GET /static/client.js HTTP/1.1\" 304\n",
      "INFO: ('2.217.213.48', 58662) - \"POST /detect HTTP/1.1\" 200\n",
      "INFO: ('2.217.213.48', 58662) - \"GET /static/tmp/acc5f3a9-5b11-40be-ad46-2f52a9c22650.jpg HTTP/1.1\" 200\n",
      "INFO: ('2.217.213.48', 58666) - \"GET /static/tmp/3baef2d0-e5cc-4f77-8097-c30f02d1b261.jpg HTTP/1.1\" 200\n",
      "INFO: ('2.217.213.48', 58664) - \"GET /static/tmp/e4c09e1a-586f-46df-a192-1e06f628890d.jpg HTTP/1.1\" 200\n"
     ]
    },
    {
     "name": "stdout",
     "output_type": "stream",
     "text": [
      "{'cropped_items': ['../static/tmp/acc5f3a9-5b11-40be-ad46-2f52a9c22650.jpg', '../static/tmp/3baef2d0-e5cc-4f77-8097-c30f02d1b261.jpg', '../static/tmp/e4c09e1a-586f-46df-a192-1e06f628890d.jpg'], 'categories': [3, 7, 8]}\n"
     ]
    },
    {
     "name": "stderr",
     "output_type": "stream",
     "text": [
      "INFO: 2.709: POST https://background-removal.rorocloud.io/predict\n",
      "INFO: ('2.217.213.48', 58668) - \"POST /analyze HTTP/1.1\" 200\n"
     ]
    },
    {
     "name": "stdout",
     "output_type": "stream",
     "text": [
      "['../static/image_data/blue-vice-high-waisted-raw-hem-skinny-jeans.jpeg', '../static/image_data/TS02G02MBLK_M_1.jpg', '../static/image_data/e840fedbcd2f9993452cc8fa0f366b6d.jpg', '../static/image_data/black-vice-high-waisted-coated-skinny-jeans.jpg']\n"
     ]
    },
    {
     "name": "stderr",
     "output_type": "stream",
     "text": [
      "INFO: ('2.217.213.48', 58754) - \"GET / HTTP/1.1\" 200\n",
      "INFO: ('2.217.213.48', 58754) - \"GET /static/style.css HTTP/1.1\" 304\n",
      "INFO: ('2.217.213.48', 58756) - \"GET /static/client.js HTTP/1.1\" 304\n",
      "INFO: ('2.217.213.48', 58754) - \"GET /static/example.jpg HTTP/1.1\" 304\n",
      "INFO: ('2.217.213.48', 58758) - \"GET /static/background.jpg HTTP/1.1\" 304\n",
      "INFO: ('2.217.213.48', 58762) - \"POST /detect HTTP/1.1\" 200\n",
      "INFO: ('2.217.213.48', 58762) - \"GET /static/tmp/d669eeff-1dcd-4165-801d-a011a2b25b3e.jpg HTTP/1.1\" 200\n",
      "INFO: ('2.217.213.48', 58764) - \"GET /static/tmp/ddce5b2e-2284-45d9-b102-5c85e778c7ca.jpg HTTP/1.1\" 200\n",
      "INFO: ('2.217.213.48', 58766) - \"GET /static/tmp/51fb6252-ec7a-4955-94c3-58e1f767b945.jpg HTTP/1.1\" 200\n",
      "INFO: ('2.217.213.48', 58768) - \"GET /static/tmp/16d2ee7b-ac38-4b39-a178-bb5ac22c6a21.jpg HTTP/1.1\" 200\n",
      "INFO: ('2.217.213.48', 58770) - \"GET /static/tmp/cbf5de4f-0c88-4760-9710-0e55f321dd92.jpg HTTP/1.1\" 200\n"
     ]
    },
    {
     "name": "stdout",
     "output_type": "stream",
     "text": [
      "{'cropped_items': ['../static/tmp/d669eeff-1dcd-4165-801d-a011a2b25b3e.jpg', '../static/tmp/ddce5b2e-2284-45d9-b102-5c85e778c7ca.jpg', '../static/tmp/51fb6252-ec7a-4955-94c3-58e1f767b945.jpg', '../static/tmp/16d2ee7b-ac38-4b39-a178-bb5ac22c6a21.jpg', '../static/tmp/cbf5de4f-0c88-4760-9710-0e55f321dd92.jpg'], 'categories': [3, 4, 7, 8, 8]}\n"
     ]
    },
    {
     "name": "stderr",
     "output_type": "stream",
     "text": [
      "INFO: 2.843: POST https://background-removal.rorocloud.io/predict\n",
      "INFO: ('2.217.213.48', 58772) - \"POST /analyze HTTP/1.1\" 200\n"
     ]
    },
    {
     "name": "stdout",
     "output_type": "stream",
     "text": [
      "['../static/image_data/blue-vice-high-waisted-raw-hem-skinny-jeans.jpeg', '../static/image_data/TS02G02MBLK_M_1.jpg', '../static/image_data/black-vice-high-waisted-coated-skinny-jeans.jpg', '../static/image_data/blue-vice-high-waisted-raw-hem-skinny-jeans.jpeg']\n"
     ]
    },
    {
     "name": "stderr",
     "output_type": "stream",
     "text": [
      "INFO: 2.665: POST https://background-removal.rorocloud.io/predict\n",
      "INFO: ('2.217.213.48', 58774) - \"POST /analyze HTTP/1.1\" 200\n"
     ]
    },
    {
     "name": "stdout",
     "output_type": "stream",
     "text": [
      "['../static/image_data/TS02G02MBLK_M_1.jpg', '../static/image_data/blue-vice-high-waisted-raw-hem-skinny-jeans.jpeg', '../static/image_data/black-vice-high-waisted-coated-skinny-jeans.jpg', '../static/image_data/blue-vice-high-waisted-raw-hem-skinny-jeans.jpeg']\n"
     ]
    }
   ],
   "source": [
    "app = Starlette()\n",
    "# app.add_middleware(CORSMiddleware, allow_origins=['*'], allow_headers=['X-Requested-With', 'Content-Type'])\n",
    "app.mount('/static', StaticFiles(directory='../static'))\n",
    "app.mount('/static', StaticFiles(directory='../static/image_data'))\n",
    "app.mount('/static', StaticFiles(directory='../static/tmp'))\n",
    "\n",
    "\n",
    "@app.route('/')\n",
    "def index(request):\n",
    "    html = Path(\"../view/index.html\")\n",
    "    return HTMLResponse(html.open().read())\n",
    "\n",
    "@app.route('/analyze', methods=['POST'])\n",
    "async def detect_items(request):\n",
    "    json = await request.json()\n",
    "    result = get_recommendations(json)\n",
    "    print(result)\n",
    "    return JSONResponse({\"results\":result})\n",
    "\n",
    "@app.route('/detect', methods=['POST'])\n",
    "async def analyze(request):\n",
    "    data = await request.form()\n",
    "    img_bytes = await (data['file'].read())\n",
    "    response = get_detected_items(Image.open(BytesIO(img_bytes)))\n",
    "    print(response)\n",
    "    return JSONResponse(response)\n",
    "\n",
    "if __name__ == '__main__':\n",
    "    uvicorn.run(app=app, host='0.0.0.0', port=1997)"
   ]
  },
  {
   "cell_type": "code",
   "execution_count": null,
   "metadata": {},
   "outputs": [],
   "source": []
  }
 ],
 "metadata": {
  "kernelspec": {
   "display_name": "Python 3",
   "language": "python",
   "name": "python3"
  },
  "language_info": {
   "codemirror_mode": {
    "name": "ipython",
    "version": 3
   },
   "file_extension": ".py",
   "mimetype": "text/x-python",
   "name": "python",
   "nbconvert_exporter": "python",
   "pygments_lexer": "ipython3",
   "version": "3.6.7"
  }
 },
 "nbformat": 4,
 "nbformat_minor": 2
}
