{
 "cells": [
  {
   "cell_type": "markdown",
   "metadata": {},
   "source": [
    "# Creator: Ivan Bardarov <br> (University of Strathclyde, March 2019)\n",
    "## This module sets up the server and creates REST endpoints\n"
   ]
  },
  {
   "cell_type": "code",
   "execution_count": null,
   "metadata": {},
   "outputs": [
    {
     "name": "stderr",
     "output_type": "stream",
     "text": [
      "INFO: Started server process [18919]\n",
      "INFO: Waiting for application startup.\n",
      "INFO: Uvicorn running on http://0.0.0.0:1997 (Press CTRL+C to quit)\n",
      "INFO: ('31.205.68.60', 34330) - \"GET / HTTP/1.1\" 200\n",
      "INFO: ('31.205.68.60', 34332) - \"POST /detect HTTP/1.1\" 200\n",
      "INFO: ('31.205.68.60', 34332) - \"GET /static/tmp/b2b19f72-1a5b-4bdf-a58f-407231213cb9.jpg HTTP/1.1\" 200\n",
      "INFO: ('31.205.68.60', 34336) - \"GET /static/tmp/57495482-7bbf-4306-b674-c5f7ccaa9ba8.jpg HTTP/1.1\" 200\n",
      "INFO: ('31.205.68.60', 34334) - \"GET /static/tmp/475fc877-e1fb-43be-a2e9-38c17d095498.jpg HTTP/1.1\" 200\n",
      "INFO: ('31.205.68.60', 34340) - \"GET /static/tmp/4847ceaf-22f1-4346-8da2-fa7e86a9de7c.jpg HTTP/1.1\" 200\n",
      "INFO: ('31.205.68.60', 34338) - \"GET /static/tmp/931ce2ee-efe9-4846-bf35-69b5eba72e78.jpg HTTP/1.1\" 200\n"
     ]
    },
    {
     "name": "stdout",
     "output_type": "stream",
     "text": [
      "{'cropped_items': ['../static/tmp/b2b19f72-1a5b-4bdf-a58f-407231213cb9.jpg', '../static/tmp/57495482-7bbf-4306-b674-c5f7ccaa9ba8.jpg', '../static/tmp/475fc877-e1fb-43be-a2e9-38c17d095498.jpg', '../static/tmp/4847ceaf-22f1-4346-8da2-fa7e86a9de7c.jpg', '../static/tmp/931ce2ee-efe9-4846-bf35-69b5eba72e78.jpg'], 'categories': [3, 4, 7, 8, 8], 'id2cat': ['bag', 'belt', 'boots', 'footwear', 'outer', 'dress', 'sunglasses', 'pants', 'top', 'shorts', 'skirt', 'headwear', 'scarf/tie']}\n"
     ]
    },
    {
     "name": "stderr",
     "output_type": "stream",
     "text": [
      "INFO: 4.091: POST https://background-removal.rorocloud.io/predict\n",
      "INFO: ('31.205.68.60', 34336) - \"POST /analyze HTTP/1.1\" 200\n",
      "INFO: ('31.205.68.60', 34336) - \"GET /static/image_data/TS02G02MBLK_M_1.jpg HTTP/1.1\" 200\n",
      "INFO: ('31.205.68.60', 34342) - \"GET /static/image_data/vice-high-waisted-slash-knee-skinny-jeans-black.jpeg HTTP/1.1\" 200\n"
     ]
    },
    {
     "name": "stdout",
     "output_type": "stream",
     "text": [
      "['../static/image_data/TS02G02MBLK_M_1.jpg', '../static/image_data/vice-high-waisted-slash-knee-skinny-jeans-black.jpeg', '../static/image_data/black-vice-high-waisted-coated-skinny-jeans.jpg', '../static/image_data/blue-vice-high-waisted-raw-hem-skinny-jeans.jpeg']\n"
     ]
    },
    {
     "name": "stderr",
     "output_type": "stream",
     "text": [
      "INFO: ('31.205.68.60', 34336) - \"GET /static/image_data/black-vice-high-waisted-coated-skinny-jeans.jpg HTTP/1.1\" 200\n",
      "INFO: ('31.205.68.60', 34336) - \"GET /static/image_data/blue-vice-high-waisted-raw-hem-skinny-jeans.jpeg HTTP/1.1\" 200\n",
      "INFO: 3.905: POST https://background-removal.rorocloud.io/predict\n",
      "INFO: ('31.205.68.60', 34356) - \"POST /analyze HTTP/1.1\" 200\n"
     ]
    },
    {
     "name": "stdout",
     "output_type": "stream",
     "text": [
      "['../static/image_data/TS02G02MBLK_M_1.jpg', '../static/image_data/vice-high-waisted-slash-knee-skinny-jeans-black.jpeg', '../static/image_data/black-vice-high-waisted-coated-skinny-jeans.jpg', '../static/image_data/blue-vice-high-waisted-raw-hem-skinny-jeans.jpeg']\n"
     ]
    },
    {
     "name": "stderr",
     "output_type": "stream",
     "text": [
      "INFO: ('31.205.68.60', 34358) - \"POST /detect HTTP/1.1\" 200\n",
      "INFO: ('31.205.68.60', 34358) - \"GET /static/tmp/6b6cf114-bac0-49a4-b40d-fcb91fbe921d.jpg HTTP/1.1\" 200\n",
      "INFO: ('31.205.68.60', 34368) - \"GET /static/tmp/c1a9fdc3-013c-467d-acfd-ec9be4c95c92.jpg HTTP/1.1\" 200\n",
      "INFO: ('31.205.68.60', 34362) - \"GET /static/tmp/f6cda804-ed6b-44cf-b134-82b3e1fd9017.jpg HTTP/1.1\" 200\n",
      "INFO: ('31.205.68.60', 34360) - \"GET /static/tmp/73297982-7e76-4b82-a81d-e6d3fcdedd9b.jpg HTTP/1.1\" 200\n",
      "INFO: ('31.205.68.60', 34366) - \"GET /static/tmp/7db25e88-6931-4994-9609-0a983cbeeaeb.jpg HTTP/1.1\" 200\n",
      "INFO: ('31.205.68.60', 34364) - \"GET /static/tmp/21b252e3-68b0-412a-8415-17343a9b7a99.jpg HTTP/1.1\" 200\n",
      "INFO: ('31.205.68.60', 34358) - \"GET /static/tmp/5a30c690-c6dd-4356-b497-3ec6d581809d.jpg HTTP/1.1\" 200\n"
     ]
    },
    {
     "name": "stdout",
     "output_type": "stream",
     "text": [
      "{'cropped_items': ['../static/tmp/6b6cf114-bac0-49a4-b40d-fcb91fbe921d.jpg', '../static/tmp/73297982-7e76-4b82-a81d-e6d3fcdedd9b.jpg', '../static/tmp/f6cda804-ed6b-44cf-b134-82b3e1fd9017.jpg', '../static/tmp/21b252e3-68b0-412a-8415-17343a9b7a99.jpg', '../static/tmp/7db25e88-6931-4994-9609-0a983cbeeaeb.jpg', '../static/tmp/5a30c690-c6dd-4356-b497-3ec6d581809d.jpg', '../static/tmp/c1a9fdc3-013c-467d-acfd-ec9be4c95c92.jpg'], 'categories': [0, 3, 3, 4, 4, 8, 10], 'id2cat': ['bag', 'belt', 'boots', 'footwear', 'outer', 'dress', 'sunglasses', 'pants', 'top', 'shorts', 'skirt', 'headwear', 'scarf/tie']}\n"
     ]
    },
    {
     "name": "stderr",
     "output_type": "stream",
     "text": [
      "INFO: ('31.205.68.60', 34372) - \"GET / HTTP/1.1\" 200\n"
     ]
    }
   ],
   "source": [
    "from starlette.applications import Starlette\n",
    "from starlette.responses import HTMLResponse, JSONResponse\n",
    "from starlette.staticfiles import StaticFiles\n",
    "import sys\n",
    "sys.path.append('../recommender/')\n",
    "from starlette.middleware.cors import CORSMiddleware\n",
    "import uvicorn, aiohttp, asyncio\n",
    "from io import BytesIO\n",
    "from pathlib import Path\n",
    "from cloth_detector import *\n",
    "from style_recommender import *\n",
    "import email_agent as ea\n",
    "\n",
    "# application init\n",
    "app = Starlette()\n",
    "app.add_middleware(CORSMiddleware, allow_origins=['*'], allow_headers=['X-Requested-With', 'Content-Type'])\n",
    "\n",
    "# expose the files in these folders to be allowed for acess\n",
    "app.mount('/static', StaticFiles(directory='../static'))\n",
    "app.mount('/static', StaticFiles(directory='../static/image_data'))\n",
    "app.mount('/static', StaticFiles(directory='../static/tmp'))\n",
    "app.mount('/static', StaticFiles(directory='../static/assets'))\n",
    "\n",
    "# define JSON keys\n",
    "ORIGINAL = \"original_image\"\n",
    "CROPPED = \"cropped_items\"\n",
    "CATS = \"categories\"\n",
    "CHOSEN_IMAGE = \"chosen_image\"\n",
    "CHOSEN_CAT = \"chosen_cat\"\n",
    "ID2CAT = \"id2cat\"\n",
    "\n",
    "@app.route('/')\n",
    "def index(request):\n",
    "    \"\"\"\n",
    "    An index API which returns the main webapge.\n",
    "\n",
    "    Parameters\n",
    "    ----------\n",
    "    request : Request\n",
    "        the received request\n",
    "        \n",
    "    Returns\n",
    "    -------\n",
    "    HTMLResponse\n",
    "        the requested html file\n",
    "\n",
    "    \"\"\"\n",
    "    html = Path(\"../view/index.html\")\n",
    "    return HTMLResponse(html.open().read())\n",
    "\n",
    "\n",
    "@app.route('/email', methods=['POST'])\n",
    "async def send_email(request):\n",
    "    \"\"\"\n",
    "    This function handles POST request sent to /email.\n",
    "\n",
    "    Parameters\n",
    "    ----------\n",
    "    request : Request\n",
    "        the received request\n",
    "        \n",
    "    Returns\n",
    "    -------\n",
    "    JSONResponse\n",
    "        Empty JSON response to finish handling the request\n",
    "\n",
    "    \"\"\"\n",
    "    json = await request.json()\n",
    "    #pass the request along\n",
    "    await ea.send_email(json[\"name\"], json[\"email\"], json[\"comments\"])\n",
    "    print(json)\n",
    "    return JSONResponse({})\n",
    "\n",
    "\n",
    "@app.route('/analyze', methods=['POST'])\n",
    "async def detect_items(request):\n",
    "    \"\"\"\n",
    "    This function handles POST request sent to /analyze.\n",
    "\n",
    "    Parameters\n",
    "    ----------\n",
    "    request : Request\n",
    "        the received request\n",
    "        \n",
    "    Returns\n",
    "    -------\n",
    "    JSONResponse\n",
    "        a json object with the results array\n",
    "\n",
    "    \"\"\"\n",
    "    request_json = await request.json()\n",
    "    #pass the request along\n",
    "    results_arr = get_recommendations(request_json[CHOSEN_IMAGE], request_json[CHOSEN_CAT])\n",
    "    print(results_arr)\n",
    "    return JSONResponse({\"results\":results_arr})\n",
    "\n",
    "\n",
    "@app.route('/detect', methods=['POST'])\n",
    "async def analyze(request):\n",
    "    \"\"\"\n",
    "    This function handles POST request sent to /detect.\n",
    "\n",
    "    Parameters\n",
    "    ----------\n",
    "    request : Request\n",
    "        the received request\n",
    "        \n",
    "    Returns\n",
    "    -------\n",
    "    JSONResponse\n",
    "        an array of result image paths\n",
    "\n",
    "    \"\"\"\n",
    "    data = await request.form()\n",
    "    #read the file\n",
    "    img_bytes = await (data['file'].read())\n",
    "    #pass the request along\n",
    "    i_fns, cat_list, id2cat = get_detected_items(Image.open(BytesIO(img_bytes)))\n",
    "    #construct the JSON response\n",
    "    response = {CROPPED: i_fns,\n",
    "                CATS: cat_list,\n",
    "                ID2CAT: id2cat}\n",
    "    print(response)\n",
    "    return JSONResponse(response)\n",
    "\n",
    "\n",
    "if __name__ == '__main__':\n",
    "    uvicorn.run(app=app, host='0.0.0.0', port=1997)"
   ]
  },
  {
   "cell_type": "code",
   "execution_count": null,
   "metadata": {},
   "outputs": [],
   "source": []
  }
 ],
 "metadata": {
  "kernelspec": {
   "display_name": "Python 3",
   "language": "python",
   "name": "python3"
  }
 },
 "nbformat": 4,
 "nbformat_minor": 2
}
