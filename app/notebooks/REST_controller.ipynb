{
 "cells": [
  {
   "cell_type": "code",
   "execution_count": 1,
   "metadata": {},
   "outputs": [],
   "source": [
    "from starlette.applications import Starlette\n",
    "from starlette.responses import HTMLResponse, JSONResponse\n",
    "from starlette.staticfiles import StaticFiles\n",
    "import sys\n",
    "sys.path.append('../recommender/')\n",
    "from starlette.middleware.cors import CORSMiddleware\n",
    "import uvicorn, aiohttp, asyncio\n",
    "from io import BytesIO\n",
    "from pathlib import Path\n",
    "from cloth_detector import *\n",
    "from style_recommender import *"
   ]
  },
  {
   "cell_type": "code",
   "execution_count": null,
   "metadata": {
    "scrolled": false
   },
   "outputs": [
    {
     "name": "stderr",
     "output_type": "stream",
     "text": [
      "INFO: Started server process [3218]\n",
      "INFO: Waiting for application startup.\n",
      "INFO: Uvicorn running on http://0.0.0.0:1997 (Press CTRL+C to quit)\n",
      "INFO: ('2.217.213.48', 49844) - \"POST /detect HTTP/1.1\" 200\n"
     ]
    },
    {
     "name": "stdout",
     "output_type": "stream",
     "text": [
      "{'cropped_items': ['../static/tmp/a9824525-4158-4550-b5c4-b540c1f31fb1.jpg', '../static/tmp/56eca266-5041-4403-a3e0-19d389194db2.jpg', '../static/tmp/de8aefe6-6dc9-46dd-b664-e91e37a756f2.jpg'], 'categories': [3, 7, 8]}\n"
     ]
    },
    {
     "name": "stderr",
     "output_type": "stream",
     "text": [
      "INFO: ('2.217.213.48', 50312) - \"POST /detect HTTP/1.1\" 200\n"
     ]
    },
    {
     "name": "stdout",
     "output_type": "stream",
     "text": [
      "{'cropped_items': ['../static/tmp/51a53054-8b37-4f6f-b1bc-a78202e08857.jpg', '../static/tmp/020e3797-66b5-4abb-a08f-abd311b870ca.jpg', '../static/tmp/c40c0e92-04f3-454f-bc7d-e1e839b957e8.jpg'], 'categories': [3, 7, 8]}\n"
     ]
    },
    {
     "name": "stderr",
     "output_type": "stream",
     "text": [
      "INFO: ('2.217.213.48', 51744) - \"GET / HTTP/1.1\" 200\n",
      "INFO: ('2.217.213.48', 51744) - \"GET /static/image-picker.css HTTP/1.1\" 304\n",
      "INFO: ('2.217.213.48', 51750) - \"GET /static/client.js HTTP/1.1\" 200\n",
      "INFO: ('2.217.213.48', 51744) - \"GET /static/image-picker.min.js HTTP/1.1\" 304\n",
      "INFO: ('2.217.213.48', 52088) - \"GET / HTTP/1.1\" 200\n",
      "INFO: ('2.217.213.48', 52088) - \"GET /static/client.js HTTP/1.1\" 200\n",
      "INFO: ('2.217.213.48', 52138) - \"POST /detect HTTP/1.1\" 200\n",
      "INFO: ('2.217.213.48', 52138) - \"GET /static/tmp/cf20a8a3-1e97-43bd-9691-db8f60195899.jpg HTTP/1.1\" 200\n",
      "INFO: ('2.217.213.48', 52148) - \"GET /static/tmp/f555225a-5f33-40c1-b74d-b859ce6e0051.jpg HTTP/1.1\" 200\n",
      "INFO: ('2.217.213.48', 52150) - \"GET /static/tmp/46231b57-0468-4ac0-bbd9-9413d020e01c.jpg HTTP/1.1\" 200\n"
     ]
    },
    {
     "name": "stdout",
     "output_type": "stream",
     "text": [
      "{'cropped_items': ['../static/tmp/cf20a8a3-1e97-43bd-9691-db8f60195899.jpg', '../static/tmp/f555225a-5f33-40c1-b74d-b859ce6e0051.jpg', '../static/tmp/46231b57-0468-4ac0-bbd9-9413d020e01c.jpg'], 'categories': [3, 7, 8]}\n"
     ]
    }
   ],
   "source": [
    "app = Starlette()\n",
    "app.add_middleware(CORSMiddleware, allow_origins=['*'], allow_headers=['X-Requested-With', 'Content-Type'])\n",
    "app.mount('/static', StaticFiles(directory='../static'))\n",
    "app.mount('/static', StaticFiles(directory='../static/image_data'))\n",
    "app.mount('/static', StaticFiles(directory='../static/tmp'))\n",
    "\n",
    "\n",
    "@app.route('/')\n",
    "def index(request):\n",
    "    html = Path(\"../view/index.html\")\n",
    "    return HTMLResponse(html.open().read())\n",
    "\n",
    "@app.route('/analyze', methods=['POST'])\n",
    "async def detect_items(request):\n",
    "    json = await request.json()\n",
    "    result = get_recommendations(json)\n",
    "    print(result)\n",
    "    return JSONResponse({\"results\":result})\n",
    "\n",
    "@app.route('/detect', methods=['POST'])\n",
    "async def analyze(request):\n",
    "    data = await request.form()\n",
    "    img_bytes = await (data['file'].read())\n",
    "    response = get_detected_items(Image.open(BytesIO(img_bytes)))\n",
    "    print(response)\n",
    "    return JSONResponse(response)\n",
    "\n",
    "if __name__ == '__main__':\n",
    "    uvicorn.run(app=app, host='0.0.0.0', port=1997)"
   ]
  },
  {
   "cell_type": "code",
   "execution_count": null,
   "metadata": {},
   "outputs": [],
   "source": []
  }
 ],
 "metadata": {
  "kernelspec": {
   "display_name": "Python 3",
   "language": "python",
   "name": "python3"
  },
  "language_info": {
   "codemirror_mode": {
    "name": "ipython",
    "version": 3
   },
   "file_extension": ".py",
   "mimetype": "text/x-python",
   "name": "python",
   "nbconvert_exporter": "python",
   "pygments_lexer": "ipython3",
   "version": "3.6.7"
  }
 },
 "nbformat": 4,
 "nbformat_minor": 2
}
