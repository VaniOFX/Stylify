{
 "cells": [
  {
   "cell_type": "code",
   "execution_count": 1,
   "metadata": {},
   "outputs": [],
   "source": [
    "import sys\n",
    "sys.path.append('../recommender/')\n",
    "import background_remover as br\n",
    "from cloth_detector import *\n",
    "import KNN_indexer as indexer\n",
    "import gram_extractor as ge\n",
    "import item_collector as ic\n",
    "import uuid\n",
    "from io import BytesIO\n",
    "from os.path import exists\n",
    "from os import remove, makedirs\n",
    "from shutil import move\n",
    "from pathlib import Path\n",
    "\n",
    "image_path_temp = Path(\"../static/tmp\")"
   ]
  },
  {
   "cell_type": "code",
   "execution_count": 3,
   "metadata": {
    "scrolled": true
   },
   "outputs": [],
   "source": [
    "os.makedirs(image_path_temp, exist_ok=True)\n",
    "learner, id2cat, cat2id = load_learner()\n",
    "index_dict = {}\n",
    "\n",
    "for cat in cat2id.values():\n",
    "    grams_fn = ic.get_grams_filename(cat)\n",
    "    if exists(grams_fn):\n",
    "        data = ic.get_grams_collection(cat)\n",
    "        index_dict[cat] = indexer.get_index(cat, data)\n",
    "\n",
    "ORIGINAL = \"original_image\"\n",
    "CROPPED = \"cropped_items\"\n",
    "CATS = \"categories\"\n",
    "CHOSEN_IMAGE = \"chosen_image\"\n",
    "CHOSEN_CAT = \"chosen_cat\"\n",
    "ID2CAT = \"id2cat\"\n",
    "\n",
    "def get_unique_filename():\n",
    "    return f\"{image_path_temp}/{uuid.uuid4()}.jpg\"\n",
    "\n",
    "def get_largest_index(scores):\n",
    "    return scores.max(0)[1]\n",
    "\n",
    "def get_largest_bbox(bboxes, largest_index, img_res):\n",
    "    bb = bboxes[largest_index].squeeze()\n",
    "    bb = scale_bbox(bb, img_res)\n",
    "    return bb\n",
    "\n",
    "def scale_bbox(bbox, res):\n",
    "    h, w = res\n",
    "    return np.array([bbox[1]*h, bbox[0]*w, bbox[3]*h, bbox[2]*w])\n",
    "\n",
    "def get_results(fn, cat):\n",
    "    gram = ge.get_gram(fn)\n",
    "    return get_knn(index, act)[1]\n",
    "\n",
    "def get_recommendations(chosen_json):\n",
    "    img_fn = chosen_json[CHOSEN_IMAGE]\n",
    "    cat = chosen_json[CHOSEN_CAT]\n",
    "#     img.save(fn)\n",
    "#     bboxes, cats, conf_scores = predict(learner, fn)\n",
    "#     largest_index = get_largest_index(conf_scores)\n",
    "#     cat = cats[largest_index][0]\n",
    "    if cat in index_dict:\n",
    "        br.remove_background(img_fn).save(img_fn)\n",
    "        features_vector = ge.get_gram(img_fn)\n",
    "        ids = indexer.get_knn(index_dict[cat], features_vector, k=4)[0]\n",
    "        ar = ic.get_filenames_collection(cat)\n",
    "        result = []\n",
    "        for i in ids:\n",
    "            result.append(ar[i])\n",
    "    else:\n",
    "        result = -1\n",
    "    return result\n",
    "\n",
    "def get_detected_items(img):\n",
    "    org_fn = get_unique_filename()\n",
    "    i_fns = []\n",
    "    cat_list = []\n",
    "    img.save(org_fn)\n",
    "    bboxes, cats, _ = predict(learner, org_fn)\n",
    "    for cat, bbox in zip(cats,bboxes):\n",
    "        i_fn = get_unique_filename()\n",
    "        bbox = scale_bbox(bbox, img.size)\n",
    "        img.crop(tuple(bbox)).save(i_fn)\n",
    "        i_fns.append(i_fn)\n",
    "        cat_list.append(cat)\n",
    "    return {CROPPED: i_fns,\n",
    "            CATS: cat_list,\n",
    "            ID2CAT: id2cat}\n"
   ]
  },
  {
   "cell_type": "code",
   "execution_count": 8,
   "metadata": {},
   "outputs": [
    {
     "data": {
      "text/plain": [
       "{'cropped_items': ['../static/tmp/f7fdfe5f-b6cf-44ab-ab04-211de6153ead.jpg',\n",
       "  '../static/tmp/d5d073c4-71b7-4c26-b3ca-0f815dd6ef77.jpg',\n",
       "  '../static/tmp/3bfa6cf3-fa1c-4e22-84d2-4c5a4104efa5.jpg'],\n",
       " 'categories': [3, 7, 8]}"
      ]
     },
     "execution_count": 8,
     "metadata": {},
     "output_type": "execute_result"
    }
   ],
   "source": [
    "# get_detected_items(Image.open(\"../../files/files/TS02G02MBLK_M_1.jpg\"))"
   ]
  },
  {
   "cell_type": "code",
   "execution_count": 13,
   "metadata": {},
   "outputs": [
    {
     "data": {
      "image/png": "[encoded data removed]",
      "text/plain": [
       "<PIL.JpegImagePlugin.JpegImageFile image mode=RGB size=155x79 at 0x7F73602DB208>"
      ]
     },
     "execution_count": 13,
     "metadata": {},
     "output_type": "execute_result"
    }
   ],
   "source": [
    "# Image.open(\"../static/tmp/f7fdfe5f-b6cf-44ab-ab04-211de6153ead.jpg\")"
   ]
  },
  {
   "cell_type": "code",
   "execution_count": 14,
   "metadata": {},
   "outputs": [
    {
     "data": {
      "text/plain": [
       "array([3, 2, 4, 1], dtype=int32)"
      ]
     },
     "execution_count": 14,
     "metadata": {},
     "output_type": "execute_result"
    }
   ],
   "source": [
    "# get_recommendations({CHOSEN_IMAGE: \"../static/tmp/d5d073c4-71b7-4c26-b3ca-0f815dd6ef77.jpg\",\n",
    "#                     CHOSEN_CAT: 7})"
   ]
  }
 ],
 "metadata": {
  "kernelspec": {
   "display_name": "Python 3",
   "language": "python",
   "name": "python3"
  },
  "language_info": {
   "codemirror_mode": {
    "name": "ipython",
    "version": 3
   },
   "file_extension": ".py",
   "mimetype": "text/x-python",
   "name": "python",
   "nbconvert_exporter": "python",
   "pygments_lexer": "ipython3",
   "version": "3.6.7"
  }
 },
 "nbformat": 4,
 "nbformat_minor": 2
}
