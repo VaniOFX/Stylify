{
 "cells": [
  {
   "cell_type": "code",
   "execution_count": null,
   "metadata": {},
   "outputs": [],
   "source": [
    "import roro\n",
    "import base64\n",
    "import io\n",
    "from PIL import Image\n",
    "\n",
    "api = roro.Client(\"https://background-removal.rorocloud.io/\")\n",
    "\n",
    "with open(\"black-jeans2.png\", \"rb\") as imageFile:\n",
    "    data = base64.b64encode(imageFile.read()).decode('ascii')\n",
    "\n",
    "image = {\"data\": data}\n",
    "response = api.predict(image=image)\n",
    "data= base64.b64decode(response['data'])\n",
    "Image.open(io.BytesIO(data))"
   ]
  }
 ],
 "metadata": {
  "kernelspec": {
   "display_name": "Python 3",
   "language": "python",
   "name": "python3"
  },
  "language_info": {
   "codemirror_mode": {
    "name": "ipython",
    "version": 3
   },
   "file_extension": ".py",
   "mimetype": "text/x-python",
   "name": "python",
   "nbconvert_exporter": "python",
   "pygments_lexer": "ipython3",
   "version": "3.6.8"
  }
 },
 "nbformat": 4,
 "nbformat_minor": 2
}
